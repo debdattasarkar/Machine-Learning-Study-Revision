{
 "cells": [
  {
   "cell_type": "code",
   "execution_count": 1,
   "id": "9a4d4918-8cec-4b9d-ae5b-fc9c7be2cd13",
   "metadata": {},
   "outputs": [],
   "source": [
    "import tensorflow as tf\n",
    "import time\n",
    "import numpy as np"
   ]
  },
  {
   "cell_type": "code",
   "execution_count": 2,
   "id": "3a39914d-8463-442a-8a83-bd5fbe2f1a3e",
   "metadata": {},
   "outputs": [
    {
     "name": "stdout",
     "output_type": "stream",
     "text": [
      "WARNING:tensorflow:From C:\\ProgramData\\anaconda3\\Lib\\site-packages\\keras\\src\\backend\\common\\global_state.py:82: The name tf.reset_default_graph is deprecated. Please use tf.compat.v1.reset_default_graph instead.\n",
      "\n",
      "Eager             :    5.64 ms / call\n",
      "Graph (@tf.function):    6.31 ms / call\n",
      "Graph + XLA       :    6.43 ms / call\n"
     ]
    }
   ],
   "source": [
    "tf.keras.backend.clear_session()   # clean slate\n",
    "\n",
    "# ------------ 1. Build some random data ------------\n",
    "N = 1_000          # number of iterations for the test loop\n",
    "d = 1024           # square matrix dimension\n",
    "\n",
    "rng = np.random.default_rng(42)\n",
    "A = tf.constant(rng.standard_normal((d, d), dtype=np.float32))\n",
    "B = tf.constant(rng.standard_normal((d, d), dtype=np.float32))\n",
    "\n",
    "# ------------ 2. Define three versions of the same op ------------\n",
    "\n",
    "def matmul_eager(a, b):\n",
    "    return tf.matmul(a, b)\n",
    "\n",
    "@tf.function            # JIT / graph mode\n",
    "def matmul_graph(a, b):\n",
    "    return tf.matmul(a, b)\n",
    "\n",
    "@tf.function(jit_compile=True)   # Graph + XLA fusion\n",
    "def matmul_xla(a, b):\n",
    "    return tf.matmul(a, b)\n",
    "\n",
    "# ------------ 3. Warm-up (always do this!) ------------\n",
    "matmul_eager(A, B)\n",
    "matmul_graph(A, B)\n",
    "matmul_xla(A, B)\n",
    "\n",
    "# ------------ 4. Timing helper ------------\n",
    "def time_it(fn, name):\n",
    "    start = time.perf_counter()\n",
    "    for _ in range(N):\n",
    "        _ = fn(A, B)\n",
    "    tf.keras.backend.clear_session()  # avoid memory blow-up\n",
    "    elapsed = time.perf_counter() - start\n",
    "    print(f\"{name:<18}: {elapsed*1e3/N:7.2f} ms / call\")\n",
    "\n",
    "# ------------ 5. Run the benchmark ------------\n",
    "time_it(matmul_eager, \"Eager\")\n",
    "time_it(matmul_graph, \"Graph (@tf.function)\")\n",
    "time_it(matmul_xla,  \"Graph + XLA\")"
   ]
  },
  {
   "cell_type": "code",
   "execution_count": null,
   "id": "d5023892-c3e6-44b0-b407-33392b1f28e2",
   "metadata": {},
   "outputs": [],
   "source": []
  }
 ],
 "metadata": {
  "kernelspec": {
   "display_name": "Python [conda env:base] *",
   "language": "python",
   "name": "conda-base-py"
  },
  "language_info": {
   "codemirror_mode": {
    "name": "ipython",
    "version": 3
   },
   "file_extension": ".py",
   "mimetype": "text/x-python",
   "name": "python",
   "nbconvert_exporter": "python",
   "pygments_lexer": "ipython3",
   "version": "3.12.7"
  }
 },
 "nbformat": 4,
 "nbformat_minor": 5
}
