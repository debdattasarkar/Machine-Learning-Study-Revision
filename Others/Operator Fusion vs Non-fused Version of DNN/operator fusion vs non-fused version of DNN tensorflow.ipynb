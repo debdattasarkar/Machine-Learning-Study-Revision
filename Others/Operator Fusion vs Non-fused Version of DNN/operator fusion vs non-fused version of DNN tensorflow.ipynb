{
 "cells": [
  {
   "cell_type": "markdown",
   "id": "82e06512-ccf8-429c-9e35-92d80931f1c0",
   "metadata": {},
   "source": [
    "# Python Benchmark: Fusion vs Non-Fusion"
   ]
  },
  {
   "cell_type": "code",
   "execution_count": 1,
   "id": "44670eee-48d6-4b16-9d46-a8d63359a287",
   "metadata": {},
   "outputs": [],
   "source": [
    "import tensorflow as tf\n",
    "import time"
   ]
  },
  {
   "cell_type": "code",
   "execution_count": 3,
   "id": "029dbb7b-f51d-4d64-be10-3405a2315694",
   "metadata": {},
   "outputs": [
    {
     "name": "stdout",
     "output_type": "stream",
     "text": [
      "Non-Fused Time: 0.1240s\n",
      "Fused (XLA) Time: 0.1039s\n",
      "Speedup: 1.19×\n"
     ]
    }
   ],
   "source": [
    "# Inputs\n",
    "x = tf.random.normal([1024, 1024], dtype=tf.float32)\n",
    "scale = tf.random.normal([1024], dtype=tf.float32)\n",
    "bias = tf.random.normal([1024], dtype=tf.float32)\n",
    "\n",
    "# Non-fused version\n",
    "@tf.function\n",
    "def non_fused(x, scale, bias):\n",
    "    x = tf.multiply(x, scale)\n",
    "    x = tf.add(x, bias)\n",
    "    return tf.nn.relu(x)\n",
    "\n",
    "# Fused version (using XLA)\n",
    "@tf.function(jit_compile=True)\n",
    "def fused(x, scale, bias):\n",
    "    return tf.nn.relu(tf.multiply(x, scale) + bias)\n",
    "\n",
    "# Warm-up\n",
    "# non_fused(x, scale, bias)\n",
    "# fused(x, scale, bias)\n",
    "\n",
    "# Benchmark\n",
    "import time\n",
    "\n",
    "start = time.time()\n",
    "for _ in range(100):\n",
    "    non_fused(x, scale, bias)\n",
    "non_fused_time = time.time() - start\n",
    "\n",
    "start = time.time()\n",
    "for _ in range(100):\n",
    "    fused(x, scale, bias)\n",
    "fused_time = time.time() - start\n",
    "\n",
    "print(f\"Non-Fused Time: {non_fused_time:.4f}s\")\n",
    "print(f\"Fused (XLA) Time: {fused_time:.4f}s\")\n",
    "print(f\"Speedup: {non_fused_time / fused_time:.2f}×\")\n"
   ]
  },
  {
   "cell_type": "code",
   "execution_count": null,
   "id": "68783c6f-e9ca-4826-9820-360cb896d2f5",
   "metadata": {},
   "outputs": [],
   "source": []
  }
 ],
 "metadata": {
  "kernelspec": {
   "display_name": "Python [conda env:base] *",
   "language": "python",
   "name": "conda-base-py"
  },
  "language_info": {
   "codemirror_mode": {
    "name": "ipython",
    "version": 3
   },
   "file_extension": ".py",
   "mimetype": "text/x-python",
   "name": "python",
   "nbconvert_exporter": "python",
   "pygments_lexer": "ipython3",
   "version": "3.12.7"
  }
 },
 "nbformat": 4,
 "nbformat_minor": 5
}
